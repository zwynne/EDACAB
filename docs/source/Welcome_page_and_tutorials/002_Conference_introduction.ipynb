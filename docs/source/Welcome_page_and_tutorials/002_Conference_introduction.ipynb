{
 "cells": [
  {
   "cell_type": "markdown",
   "id": "56b31666-8c07-49f6-94dd-d2f54745b470",
   "metadata": {
    "jp-MarkdownHeadingCollapsed": true,
    "tags": []
   },
   "source": [
    "# Half-day conference\n",
    "**Friday 13<sup>th</sup> January 2023**\n",
    "\n",
    "\n",
    "The EDACABB half-day conference is an opportunity to share the outputs from the datathon alongside presentations showcasing the latest research from the teams at Chongqing University and the University of Edinburgh.\n",
    "\n",
    "## Conference schedule\n",
    "The conference is to be held virtually between 9am/5pm (GMT/CST) and 12pm/8pm (GMT/CST) on Friday 13<sup>th</sup> January 2023.\n",
    "\n",
    "The schedule for the event is shown below.\n",
    "\n",
    "| Time (GMT/CST) | Speaker | Topic |\n",
    "| --- | --- | --- |\n",
    "| 9:00am/5:00pm | Dr Thomas Reynolds | Welcome and key information |\n",
    "| 9:15am/5:15pm | Participant | Datathon entry |\n",
    "| 9:30am/5:30pm | TBC | TBC |\n",
    "| 9:45am/5:45pm | TBC | TBC |\n",
    "| 10:00am/6:00pm | TBC | TBC |\n",
    "| 10:15am/6:15pm | TBC | TBC |\n",
    "| 10:30am/6:30pm |  | Coffee break |\n",
    "| 11:00am/7:00pm | TBC | TBC |\n",
    "| 11:15am/7:15pm | TBC | TBC |\n",
    "| 11:30am/7:30pm | TBC | TBC |\n",
    "| 11:45am/7:45pm | Professor Yang | Closing remarks and future collaboration opportunities |\n",
    "\n",
    "\n",
    "## Conference sign-up\n",
    "To be added to the list of attendees for the EDACABB half-day conference please complete the [sign-up form](https://forms.gle/N4sLqdoRf8yjWPdc6) or contact Dr Zach Wynne (University of Edinburgh), Dr Thomas Reynolds (University of Edinburgh) or Professor Yang Yang (Chongqing University)."
   ]
  }
 ],
 "metadata": {
  "kernelspec": {
   "display_name": "Python 3 (ipykernel)",
   "language": "python",
   "name": "python3"
  },
  "language_info": {
   "codemirror_mode": {
    "name": "ipython",
    "version": 3
   },
   "file_extension": ".py",
   "mimetype": "text/x-python",
   "name": "python",
   "nbconvert_exporter": "python",
   "pygments_lexer": "ipython3",
   "version": "3.8.13"
  }
 },
 "nbformat": 4,
 "nbformat_minor": 5
}
