{
 "cells": [
  {
   "cell_type": "markdown",
   "id": "56b31666-8c07-49f6-94dd-d2f54745b470",
   "metadata": {},
   "source": [
    "# Getting started with Jupyter Notebooks - MATLAB Edition\n",
    "\n",
    "At the time of writing, Deepnote does not include support for writing Jupyter Notebooks in the MATLAB programming language.\n",
    "\n",
    "To use MATLAB with Jupyter Notebooks you will need to follow the steps outlined in this section. To follow these steps you will need to have MATLAB installed on your laptop or PC. Once you have followed these steps you will be able to write MATLAB notebooks and share them via Deepnote or other platforms such as GitHub or Gitee.\n",
    "\n",
    "**Step 1. Install Anaconda**\n",
    "\n",
    "Anaconda is a Python distribution which provides the backend for Jupyter Notebooks. Anaconda can be downloaded [here](https://www.anaconda.com/products/distribution).\n",
    "\n",
    "Wait for the installer to download and complete the installation steps. \n",
    "\n",
    "**Note**: Make sure to install the full Anaconda distribution, not Miniconda.\n",
    "\n",
    "<div><center>\n",
    "<img src=\"_static/Conda_install_01.png\" width=\"65%\"/>\n",
    "</center></div>\n",
    "\n",
    "**Note:** The MATLAB kernel installed in the next step is only supported by Python 3.8 and above. If you already have Anaconda installed, please update your Python installation to the minimum required version.\n",
    "\n",
    "**Step 2. Install the MATLAB kernel for Jupyter**\n",
    "\n",
    "Open Anaconda Prompt and enter the command shown below."
   ]
  },
  {
   "cell_type": "code",
   "execution_count": null,
   "id": "f84bb47e-89fb-4da1-90cb-54f294b9ce3c",
   "metadata": {},
   "outputs": [],
   "source": [
    "# conda install -c conda-forge matlab_kernel"
   ]
  },
  {
   "cell_type": "markdown",
   "id": "52c109ae-1b92-4572-857e-39ebe0d34568",
   "metadata": {},
   "source": [
    "This will install the MATLAB kernel for Jupyter. \n",
    "\n",
    "**Step 3. Configure MATLAB**\n",
    "\n",
    "Find the directory where MATLAB is installed on your computer. Inside this directory find the file called *setup.py*.\n",
    "\n",
    "For Windows the default location of this file is *C\\:\\\\Program Files\\\\MATLAB\\\\R2022a\\\\extern\\\\engines\\\\python*.\n",
    "\n",
    "Open Anaconda Prompt and navigate to that directory using the *cd* command."
   ]
  },
  {
   "cell_type": "code",
   "execution_count": null,
   "id": "f7e3c1b3-8f76-4db6-b97d-3dc0c1c609b1",
   "metadata": {},
   "outputs": [],
   "source": [
    "# cd C:\\Program Files\\MATLAB\\R2022a\\extern\\engines\\python"
   ]
  },
  {
   "cell_type": "markdown",
   "id": "b8a430b4-400b-4d6c-ad63-d62fd4f512ae",
   "metadata": {},
   "source": [
    "Now enter the command shown below into Anaconda Prompt to link MATLAB and Jupyter."
   ]
  },
  {
   "cell_type": "code",
   "execution_count": null,
   "id": "064c414e-d1b0-49fd-943a-d139cf57910b",
   "metadata": {},
   "outputs": [],
   "source": [
    "# python setup.py install"
   ]
  },
  {
   "cell_type": "markdown",
   "id": "4394b130-a414-415c-a142-05f961732285",
   "metadata": {},
   "source": [
    "**Step 4. Create a new Jupyter Notebook**\n",
    "\n",
    "Open Anaconda Prompt and enter the command shown below to create a new Jupyter Notebook. "
   ]
  },
  {
   "cell_type": "code",
   "execution_count": 1,
   "id": "1069e68a-0bb6-487d-9ea7-994714198b74",
   "metadata": {},
   "outputs": [],
   "source": [
    "# jupyter lab"
   ]
  },
  {
   "cell_type": "markdown",
   "id": "cb803ee4-0a95-44a4-b65b-c2c00506f54d",
   "metadata": {},
   "source": [
    "This will open a new tab in your internet browser showing the Jupyer Notebook interface. When you create a new Jupyter Notebook you will see an option to select the MATLAB kernal, as shown in the image below.\n",
    "\n",
    "<div><center>\n",
    "<img src=\"_static/MATLAB_install_01.PNG\" width=\"55%\"/>\n",
    "</center></div>\n",
    "\n",
    "**Step 5. Check the MATLAB kernal is working**\n",
    "\n",
    "If the installation was successful you should be able to write MATLAB programming language in your Jupyter Notebook. Try entering the code shown below to check that it executes successfully."
   ]
  },
  {
   "cell_type": "code",
   "execution_count": null,
   "id": "96dad4f5-ba4a-4bcd-bcc2-fd550170e3bc",
   "metadata": {},
   "outputs": [],
   "source": [
    "# disp('hello from MATLAB')"
   ]
  },
  {
   "cell_type": "markdown",
   "id": "40bc3333-3ff8-43ec-80c3-3316b449a760",
   "metadata": {},
   "source": [
    "**Step 6. Defining MATLAB functions in Jupyter Notebooks**\n",
    "\n",
    "To include user defined MATLAB functions in a Jupyter Notebook the function must be in a seperate code block which starts with the special \"%%file\" cell decorator. For an example of this please see the MATLAB blank notebook template provided for the datathon/conference.\n",
    "\n",
    "### Sharing MATLAB Jupyter Notebooks\n",
    "\n",
    "To share your Jupyter Notebook including MATLAB scripts you can run the full notebook and then submit it to Deepnote using the *upload* button. Deepnote does not currently allow users to run MATLAB notebooks so users will need to download the notebook to run it (after following the installation sections above). Please clearly mark any MATLAB notebook submissions as MATLAB files.\n",
    "\n",
    "Alternatively, you can share your Notebook via services such as [GitHub](github.com) or [Gitee](https://gitee.com/)."
   ]
  },
  {
   "cell_type": "markdown",
   "id": "a09ad5e3-0319-4396-afe4-c1bdf1fff3dd",
   "metadata": {},
   "source": [
    "**Further Resouces**\n",
    "\n",
    "If you're having difficulty setting up MATLAB for Jupyter Notebooks please contact [Dr Zach Wynne](z.wynne@sms.ed.ac.uk) or check the resources below:\n",
    "\n",
    "- [Install Jupyter-MATLAB guide](https://am111.readthedocs.io/en/latest/jmatlab_install.html)\n",
    "- [Video install tutorial](https://youtu.be/WufMGW5Bv4g)"
   ]
  }
 ],
 "metadata": {
  "kernelspec": {
   "display_name": "Python 3 (ipykernel)",
   "language": "python",
   "name": "python3"
  },
  "language_info": {
   "codemirror_mode": {
    "name": "ipython",
    "version": 3
   },
   "file_extension": ".py",
   "mimetype": "text/x-python",
   "name": "python",
   "nbconvert_exporter": "python",
   "pygments_lexer": "ipython3",
   "version": "3.8.13"
  }
 },
 "nbformat": 4,
 "nbformat_minor": 5
}
