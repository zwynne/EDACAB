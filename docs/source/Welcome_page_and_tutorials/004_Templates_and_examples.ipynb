{
 "cells": [
  {
   "cell_type": "markdown",
   "id": "56b31666-8c07-49f6-94dd-d2f54745b470",
   "metadata": {},
   "source": [
    "# Notebook templates and examples\n",
    "\n",
    "\n",
    "This page provides links to Python 3 and MATLAB templates for submissions to the EDACAB datathon and conference.\n",
    "\n",
    "Four templates are provided for each programming language:\n",
    "\n",
    "- Blank template - A blank Jupyter Notebook template including only the formatting requirements of submissions\n",
    "- Shaker table data template - A Jupyter Notebook including basic instructions for accessing the shaker table data\n",
    "- LT2 Footbridge acceleration data template - A Jupyter Notebook including basic instructions for accessing the static footbridge acceleration data\n",
    "- LT2 real-time acceleration data template - A Jupyter Notebook including basic instructions for connecting to the data stream from the LT2 Smart Bridge\n",
    "\n",
    "Provided alongside these templates is a seperate blank template for text and images only.\n",
    "\n",
    "## Accessing the EDACAB templates\n",
    "All templates can be accessed on the EDACAB project page of Deepnote. Alternatively, zip files containing the Jupyter Notebook templates can be downloaded using the links below:\n",
    "\n",
    "-  [Python 3 templates](_static/Noteable_Python3_Templates.zip)\n",
    "-  [MATLAB templates](_static/Noteable_MATLAB_templates.zip)\n",
    "-  [Text and image only template](_static/Noteable_blank_templates.zip)\n",
    "\n",
    "The Jupyter Notebook templates are also available via [GitHub](https://github.com/zwynne/EDACAB/tree/main/docs/source/_static).\n"
   ]
  }
 ],
 "metadata": {
  "kernelspec": {
   "display_name": "Python 3 (ipykernel)",
   "language": "python",
   "name": "python3"
  },
  "language_info": {
   "codemirror_mode": {
    "name": "ipython",
    "version": 3
   },
   "file_extension": ".py",
   "mimetype": "text/x-python",
   "name": "python",
   "nbconvert_exporter": "python",
   "pygments_lexer": "ipython3",
   "version": "3.8.13"
  }
 },
 "nbformat": 4,
 "nbformat_minor": 5
}
