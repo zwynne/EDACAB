{
 "cells": [
  {
   "cell_type": "markdown",
   "id": "56b31666-8c07-49f6-94dd-d2f54745b470",
   "metadata": {},
   "source": [
    "# Collaborative datathon\n",
    "\n",
    "The EDACAB collaborative datathon is an opportunity to work alongside other researchers to showcase novel approaches for efficient data analysis for the condition assessment of bridges and buildings.\n",
    "\n",
    "## Datathon schedule\n",
    "The collaborative datathon is to be held between 8:00am/4:00pm (GMT/CST) and 2:00pm/10:00pm (GMT/CST) on the XXX of XXX 2023.\n",
    "\n",
    "The schedule for the event is shown below.\n",
    "\n",
    "| Time (GMT/CST) | Speaker | Topic |\n",
    "| --- | --- | --- |\n",
    "| 8:00am/4:00pm | Dr Thomas Reynolds | Welcome |\n",
    "| 8:15am/4:15pm | Dr Zach Wynne | Getting started with Deepnote and Jupyter Notebooks |\n",
    "| 8:30am/4:30pm | TBC | TBC |\n",
    "| 2:00pm/10:00pm | Dr Thomas Reynolds | Closing remarks and future collaboration opportunities |\n",
    "\n",
    "The datathon is to be hosted on [Deepnote](www.deepnote.com), a service which allows users to write Jupyter Notebooks and collaborate in real-time. An introduction to Deepnote and Jupyter Notebooks, including how to access the service can be found [here](https://edacab.readthedocs.io/en/latest/Welcome_page_and_tutorials/003_Getting_started_guide.html).\n",
    "\n",
    "Dr Zach Wynne will be on hand throughout the day to help with technical problems and queries about the datasets.\n",
    "\n",
    "## Datathon sign-up\n",
    "To be added to the attendees list for the EDACAB collaborative datathon please contact Dr Wynne (University of Edinburgh), Dr Reynolds (University of Edinburgh) or Professor Yang (Chongqing University)."
   ]
  }
 ],
 "metadata": {
  "kernelspec": {
   "display_name": "Python 3 (ipykernel)",
   "language": "python",
   "name": "python3"
  },
  "language_info": {
   "codemirror_mode": {
    "name": "ipython",
    "version": 3
   },
   "file_extension": ".py",
   "mimetype": "text/x-python",
   "name": "python",
   "nbconvert_exporter": "python",
   "pygments_lexer": "ipython3",
   "version": "3.8.13"
  }
 },
 "nbformat": 4,
 "nbformat_minor": 5
}
